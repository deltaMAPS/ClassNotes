{
 "cells": [
  {
   "cell_type": "markdown",
   "metadata": {},
   "source": [
    "<p> <b> Disclaimer: </b> Visualizations and presentation of theory is heavily based on the excellent book by Yoav Goldberg \"Neural network methods for natural language processing.\" Synthesis Lectures on Human Language Technologies 10.1 (2017). </p>"
   ]
  },
  {
   "cell_type": "code",
   "execution_count": 1,
   "metadata": {},
   "outputs": [
    {
     "name": "stderr",
     "output_type": "stream",
     "text": [
      "/usr/local/lib/python2.7/dist-packages/h5py/__init__.py:36: FutureWarning: Conversion of the second argument of issubdtype from `float` to `np.floating` is deprecated. In future, it will be treated as `np.float64 == np.dtype(float).type`.\n",
      "  from ._conv import register_converters as _register_converters\n",
      "Using TensorFlow backend.\n"
     ]
    }
   ],
   "source": [
    "%matplotlib inline\n",
    "from __future__ import division\n",
    "import sys\n",
    "import os\n",
    "import time\n",
    "\n",
    "import numpy as np\n",
    "import pandas as pd\n",
    "\n",
    "from matplotlib import pyplot as plt\n",
    "plt.rcParams.update({'font.size': 16})\n",
    "\n",
    "\n",
    "from keras.models import Sequential\n",
    "from keras.layers import Embedding, SimpleRNN, LSTM, Bidirectional, TimeDistributed, Dense\n",
    "from keras.preprocessing import sequence\n",
    "from keras.datasets import imdb\n",
    "from keras.utils import to_categorical\n",
    "from keras import callbacks\n",
    "\n",
    "import ner_data_loader"
   ]
  },
  {
   "cell_type": "code",
   "execution_count": 2,
   "metadata": {},
   "outputs": [
    {
     "name": "stdout",
     "output_type": "stream",
     "text": [
      "2.1.3\n"
     ]
    }
   ],
   "source": [
    "import keras\n",
    "print(keras.__version__);"
   ]
  },
  {
   "cell_type": "markdown",
   "metadata": {},
   "source": [
    "# 1.  Recurrent Neural Netowk (RNN) Recap"
   ]
  },
  {
   "cell_type": "markdown",
   "metadata": {},
   "source": [
    "## The abstract framework"
   ]
  },
  {
   "cell_type": "markdown",
   "metadata": {},
   "source": [
    "<p> Recurrent neural networks (RNNs) <b> encode </b> a sequence of inputs into a fixed size vector <b> while </b> paying \n",
    "attention to the structure of the inputs </p>\n",
    "\n",
    "<p> In general, the RNN is defined <b> recursively </b>. by means of a function <b> R </b> which takes as an <b> input </b> the previous state of the network $s_{i-1}$ and the current input $x_i$ <b> returning </b> a new state $s_i$. The state vector is\n",
    "    then mapped to an <b> output </b> vector $y_i$ using a deterministic function <b> O </b>.</p> "
   ]
  },
  {
   "cell_type": "markdown",
   "metadata": {},
   "source": [
    "![title](img/rnn_framework.jpg)\n"
   ]
  },
  {
   "cell_type": "markdown",
   "metadata": {},
   "source": [
    "## Elman (Simple) RNN "
   ]
  },
  {
   "cell_type": "markdown",
   "metadata": {},
   "source": [
    "<p> Following the above notation the simplest RNN formulation that <b> is sensitive to the ordering of the sequences </b> is known as the Elman network and can be described by the following equations: </p>\n",
    "<li> $s_i = R_{SRNN}(x_i, s_{i-1}) = g(s_{i-1}W^s + x_iW^b +b)$ </li>\n",
    "<li> $y_i = O_{SRNN}(s_i) = s_i$ </li>\n",
    "<li> $s_i, y_i \\in {\\rm I\\!R}^{d_s}, x_i \\in {\\rm I\\!R}^{d_x}, W^s \\in {\\rm I\\!R}^{d_s \\times d_s}, W^x \\in {\\rm I\\!R}^{d_x \\times d_s}, b \\in {\\rm I\\!R}^{d_s} $ </li>\n",
    "<p> g here is a non-linear function, commonly tanh or ReLU. </p>"
   ]
  },
  {
   "cell_type": "markdown",
   "metadata": {},
   "source": [
    "### Example, forward pass of an RNN"
   ]
  },
  {
   "cell_type": "code",
   "execution_count": 3,
   "metadata": {},
   "outputs": [
    {
     "name": "stdout",
     "output_type": "stream",
     "text": [
      "Input dimension: 10\n",
      "Output dimension: 5\n",
      "Input shape: (10, 100)\n",
      "(5, 100)\n",
      "Weight and bias dimensions\n",
      "W_s (5, 5)\n",
      "b (5,)\n",
      "W_x (10, 5)\n"
     ]
    }
   ],
   "source": [
    "##input dimension d_x\n",
    "input_dim = 10;\n",
    "##output dimension d_s\n",
    "output_dim = 5;\n",
    "\n",
    "print('Input dimension: '+str(input_dim))\n",
    "print('Output dimension: '+str(output_dim))\n",
    "\n",
    "##input (sequence) lebgth\n",
    "t = 100;\n",
    "##input initialization\n",
    "X = np.random.rand(input_dim,t);\n",
    "print('Input shape: '+str(X.shape));\n",
    "\n",
    "##state with dimension (1,d_s)\n",
    "##set it to 0 (s_0) initially\n",
    "s_i = np.expand_dims(np.zeros([output_dim]),0);\n",
    "##and output at time t will also be an empty (for now) matrix with dimensions [output_dim,t]\n",
    "y = np.zeros([output_dim,t]);\n",
    "print(y.shape)\n",
    "\n",
    "##lets initialize weights and biases\n",
    "##state weight vector of dimension d_s x d_s\n",
    "W_s = np.random.rand(output_dim, output_dim);\n",
    "##bias vector of dimension d_s\n",
    "b = np.random.rand(output_dim);\n",
    "##input weight vector of dimension d_x x d_s\n",
    "W_x = np.random.rand(input_dim,output_dim);\n",
    "\n",
    "\n",
    "print('Weight and bias dimensions');\n",
    "print('W_s '+str(W_s.shape));\n",
    "print('b '+str(b.shape));\n",
    "print('W_x '+str(W_x.shape))\n",
    "\n",
    "##forward pass\n",
    "for i in np.arange(0,t):\n",
    "    ##compute g( s_{i-1}W^s + x_iW^x +b ) which will give you the new state, here g will be tanh\n",
    "    ##get current input and put it in a shape of (1,dx)\n",
    "    x_i = np.expand_dims(X[:,i],0);\n",
    "    ##compute next state\n",
    "    s_i_next = np.tanh(np.matmul(s_i,W_s) + np.matmul(x_i,W_x) + b);\n",
    "    ##output\n",
    "    y[:,i] = s_i_next;\n",
    "    ##update state\n",
    "    s_i = s_i_next;\n",
    "    \n",
    "    \n",
    "    \n",
    "    \n",
    "\n",
    "\n"
   ]
  },
  {
   "cell_type": "markdown",
   "metadata": {},
   "source": [
    "### Vanishing gradients in recurrent networks \n",
    "\n",
    "This example is adapted from an excellent blogpost on the matter (with many awesome links therein) by A. karpathy\n",
    "here: https://medium.com/@karpathy/yes-you-should-understand-backprop-e2f06eab496b"
   ]
  },
  {
   "cell_type": "code",
   "execution_count": 4,
   "metadata": {},
   "outputs": [
    {
     "data": {
      "text/plain": [
       "'\\nThe trick, as pointed is the blog post is to realize as to what is happening in the last part\\nof the for loop... \\n'"
      ]
     },
     "execution_count": 4,
     "metadata": {},
     "output_type": "execute_result"
    }
   ],
   "source": [
    "## Here we have a much simpler version of what we did above, we also assume that the activation\n",
    "## function is a relu (aka max(0,z)). We follow the blog notation (code-wise) since we pretty much\n",
    "## copy pasted it :-)\n",
    "\n",
    "## We assume that there is no input to simplify even further the equations (or just say that input is\n",
    "## a vector of zeros all the time)\n",
    "H = 5; ##hidden input or output dimension\n",
    "T = 50 ##time\n",
    "WH = np.random.randn(H,H); ##state vector \n",
    "\n",
    "\n",
    "hs = {}; ##dictionary (key = time, value is hidden state before activation, aka what we had inside g)\n",
    "ss = {}; ##dictionary (key = time, value is hidden state after activation, aka g())\n",
    "hs[-1] = np.random.randn(H); ##initialize first state randomly\n",
    "\n",
    "## Forward pass, same as we did before, here tanh() is replaced by relu\n",
    "for t in xrange(T):    \n",
    "    ss[t] = np.matmul(hs[t-1],WH) ##we 've seen that, it is what we had inside g() without the input (assumed to be zero)\n",
    "    hs[t] = np.maximum(0, ss[t]); ##and activation\n",
    "    \n",
    "## Backward pass, we will store derivatives here\n",
    "dhs = {}  ##same logic as with hs and ss but now we will store the derivatives\n",
    "dss = {};\n",
    "dhs[T-1] = np.random.randn(H); ##random gradients at the start\n",
    "\n",
    "for t in reversed(xrange(T)):\n",
    "    dss[t] = (hs[t] > 0)*dhs[t]; ##backprop through activation\n",
    "    dhs[t-1] = np.dot(np.transpose(WH),dss[t]); ##&backprop to previous hidden state\n",
    "    \n",
    "\"\"\"\n",
    "The trick, as pointed is the blog post is to realize as to what is happening in the last part\n",
    "of the for loop... \n",
    "\"\"\"\n",
    "    "
   ]
  },
  {
   "cell_type": "markdown",
   "metadata": {},
   "source": [
    "# Gated Architectures (LSTM)"
   ]
  },
  {
   "cell_type": "markdown",
   "metadata": {},
   "source": [
    "## Problems with simple RNN architecture"
   ]
  },
  {
   "cell_type": "markdown",
   "metadata": {},
   "source": [
    "<p> There are two main problems with the recurrent architecture described above. First as we demonstrated there exists the problem of the <b> vanishing/exploding </b> gradients. That vanishing/exploding gradient problem however is not a problem\n",
    "limited to recurrent networks, the same problem exists in deep feed forward networks as well.</p>\n",
    "<p> The main drawback of the simple recurrent neural network architecture is that it really sucks when it comes to model/remember <b> long range dependencies </b> in the sequences. </p>\n",
    "\n",
    "<p> To understand why it is useful to think of the RNN as a general computing device with $s_i$ being a <b> finite memory.</b> At each time step $R$ will read the whole memory and then erase it and write on top. In other words, <b> at each step the entire memory is read and written </b>. Thus the main problem that we have here is that there is <b>no controlled memory access. </b> </p>\n"
   ]
  },
  {
   "cell_type": "markdown",
   "metadata": {},
   "source": [
    "## Gating mechanisms for memory access control"
   ]
  },
  {
   "cell_type": "markdown",
   "metadata": {},
   "source": [
    "<p> How can we control the access to the memory? A simple solution would be to have a gating mechanism such as the one shown below ($\\odot$ is the hadamard-product or element wise multiplication in our case)"
   ]
  },
  {
   "cell_type": "markdown",
   "metadata": {},
   "source": [
    "![title](img/gate_example.jpg)\n"
   ]
  },
  {
   "cell_type": "markdown",
   "metadata": {},
   "source": [
    "<p> Now we know that we can use gating mechanisms to control the access to the memory. There are two main components missing: </p>\n",
    "<li> Gates should not be static. <b> Gate behavior should depend on the current state and input and learned</b>. </li>\n",
    "<li> 0/1 gates are not differentiable. </li>\n",
    "\n",
    "<p> To solve the differentiation problem, we can use a \"soft\" gating mechanism. We can replace $g$ with real numbers (weights\n",
    "    for example that will be learned) and then pass them through a sigmoid $\\sigma()$ function which will (a) squish everything to (0,1) and will allow values near 1 to pass. And this is the <b> basis </b> for gated architectures such as the LSTM which we will describe below.</p>\n",
    "\n"
   ]
  },
  {
   "cell_type": "markdown",
   "metadata": {},
   "source": [
    "## The LSTM architecture "
   ]
  },
  {
   "cell_type": "markdown",
   "metadata": {},
   "source": [
    "![title](img/lstm.jpg)\n"
   ]
  },
  {
   "cell_type": "markdown",
   "metadata": {},
   "source": [
    "<p> In the LSTM architecture the state $s_j$ is split into two parts, a memory cell $c_j$ and a working memory (or hidden state) $h_j$. In practice we only set the dimension of $c_j$ and $h_j$, but to be consistent with the RNN notation we will stick with $s_j$. </p>\n",
    "    \n",
    "<p> LSTM architecture: </p>\n",
    "<li> $s_j = R_{LSTM}(s_{j-1},x_j) = [c_j:h_j]$ -> similar to what we had for the RNN but state is split.</li>\n",
    "<li> Next we specify the gates which are named as input, forget and output (but do not confuse yourself with that) </li>\n",
    "<li> Input: $i = \\sigma(x_j W^{xi} + h_{j-1}W^{hi})$ </li>\n",
    "<li> Forget: $f = \\sigma(x_j W^{xf} + h_{j-1}W^{hf})$ </li>\n",
    "<li> Output: $o = \\sigma(x_j W^{xo} + h_{j-1}W^{ho})$ </li>\n",
    "<li> Update candidate: $z = tanh(x_jW^{xz} + h_{j-1}W^{xz})$ </li>\n",
    "<li> Memmory cell update: $c_j = f \\odot c_{j-1} + i \\odot z$ </li>\n",
    "<li> Working memory (hidden state) update: $h_j = o \\odot tanh(c_j) $ </li>\n",
    "<li> Output $y_j$ is the same as the hidden state: $ y_j = O_{LSTM}(s_j) = h_j$ </li>\n",
    "<li> $x_i \\in {\\rm I\\!R}^{d_x}, c_j,h_j,i,o,f,z \\in {\\rm I\\!R}^{d_h}, W^{xg} \\in {\\rm I\\!R}^{d_x \\times d_h}, W^{hg} \\in {\\rm I\\!R}^{d_h \\times d_h} $ </li>\n",
    "\n"
   ]
  },
  {
   "cell_type": "markdown",
   "metadata": {},
   "source": [
    "### Example, forward pass of a LSTM"
   ]
  },
  {
   "cell_type": "code",
   "execution_count": 5,
   "metadata": {},
   "outputs": [],
   "source": [
    "##lets first quickly define the sigmoid function\n",
    "def sigmoid(x):    \n",
    "    return 1./(1. + np.exp(-x));\n",
    "\n",
    "##input dimension d_x\n",
    "input_dim = 100;\n",
    "##hidden dimension = output dimension = memmory cell dimension\n",
    "hidden_dim = 32;\n",
    "\n",
    "##input (sequence) lebgth\n",
    "t = 100;\n",
    "##input initialization, as before\n",
    "X = np.random.rand(input_dim,t);\n",
    "\n",
    "##initialize memmory cell and hidden cell each of dimension d_h\n",
    "h_i = np.expand_dims(np.zeros(hidden_dim),0);\n",
    "c_i = np.expand_dims(np.zeros(hidden_dim),0);\n",
    "\n",
    "##y output of dimension d_h x t\n",
    "y = np.zeros([hidden_dim,t]);\n",
    "\n",
    "\n",
    "##initialize weights and biases\n",
    "##similar to what we had for the RNN before, weights associated with input will have a\n",
    "##dimension of d_x x d_h, weights associated with hidden cells will have a dimension of d_h x d_h\n",
    "W_xi = np.random.rand(input_dim,hidden_dim) ##input gate weights for input\n",
    "W_hi = np.random.rand(hidden_dim,hidden_dim) ##input gate weights for hidden\n",
    "b_i = np.random.rand(hidden_dim); ##input gate bias \n",
    "\n",
    "W_xf = np.random.rand(input_dim,hidden_dim) ##forget weights for input\n",
    "W_hf = np.random.rand(hidden_dim,hidden_dim) ##forget weights for hidden\n",
    "b_f = np.random.rand(hidden_dim); ##forget bias \n",
    "\n",
    "W_xo = np.random.rand(input_dim,hidden_dim) ##output weights for input\n",
    "W_ho = np.random.rand(hidden_dim,hidden_dim) ##output weights for hidden\n",
    "b_o = np.random.rand(hidden_dim); ##output gate bias \n",
    "\n",
    "W_xz = np.random.rand(input_dim,hidden_dim) ##update candidate weights for input\n",
    "W_hz = np.random.rand(hidden_dim,hidden_dim) ##update candidate weights for hidden\n",
    "b_z = np.random.rand(hidden_dim); ##update candidate gate bias \n",
    "\n",
    "##and lets do a forward pass example\n",
    "for ii in np.arange(0,t):\n",
    "    ##get current input and put it in a shape of (1,dx)\n",
    "    x_i = np.expand_dims(X[:,ii],0);\n",
    "    \n",
    "    ##first we have the gatting mechanisms\n",
    "    i = sigmoid( np.matmul(x_i,W_xi) + np.matmul(h_i,W_hi) + b_i ); ##input gate\n",
    "    f = sigmoid( np.matmul(x_i,W_xf) + np.matmul(h_i,W_hf) + b_f ); ##forget gate\n",
    "    o = sigmoid( np.matmul(x_i,W_xo) + np.matmul(h_i,W_ho) + b_o ); ##output gate        \n",
    "    z = np.tanh( np.matmul(x_i,W_xz) + np.matmul(h_i,W_hz) + b_z); ##update candidate gate\n",
    "    \n",
    "    ##now we can compute the new memmory state\n",
    "    c_i_next = f*c_i+i*z;\n",
    "    ##and the next hidden state\n",
    "    h_i_next = o*np.tanh(c_i_next);\n",
    "    ##output and h_t are the same\n",
    "    y[:,ii] = h_i_next\n",
    "    ##update hidden and cell states   \n",
    "    h_i = h_i_next;\n",
    "    c_i = c_i_next;"
   ]
  },
  {
   "cell_type": "markdown",
   "metadata": {},
   "source": [
    "# Many-to-one recurrent neural networks with Keras (Sentiment Detection)"
   ]
  },
  {
   "cell_type": "markdown",
   "metadata": {},
   "source": [
    "<p> This section introduces variations of many-to-one recurrent neural networks with Keras. We start by loading a pre-processed example data set of imdb reviews. Sequences here are reviews and each sequence has a tag corresponding to a negative/positive review. Our goal is to use recurrent neural networks to perform sentiment analysis (aka predict the actual label of the sequence). </p>\n",
    "\n"
   ]
  },
  {
   "cell_type": "markdown",
   "metadata": {},
   "source": [
    "## Many-to-one Architecture"
   ]
  },
  {
   "cell_type": "markdown",
   "metadata": {},
   "source": [
    "![title](img/many_to_one_simple.jpg)\n"
   ]
  },
  {
   "cell_type": "markdown",
   "metadata": {},
   "source": [
    "<b> Example of a many-to-one architecture </b>"
   ]
  },
  {
   "cell_type": "markdown",
   "metadata": {},
   "source": [
    "## Loading and preparing the imdb data set"
   ]
  },
  {
   "cell_type": "markdown",
   "metadata": {},
   "source": [
    "### 1. Load data\n",
    "<p>For a detailed description of the load_data function see: https://keras.io/datasets/ </p>\n",
    "\n",
    "<p>It is typical in many language tasks to exclude some words that are not frequent. These words will\n",
    "be substituted under the hood with an UNK (unknown) token (2 in our case) </p>\n"
   ]
  },
  {
   "cell_type": "code",
   "execution_count": 6,
   "metadata": {},
   "outputs": [
    {
     "name": "stdout",
     "output_type": "stream",
     "text": [
      "Loading data...\n",
      "Done.\n"
     ]
    }
   ],
   "source": [
    "\n",
    "## This variable let us select the number of most frequent words to use, set to None to select everything\n",
    "max_num_words = 10000;\n",
    "print('Loading data...');\n",
    "(x_train, y_train), (x_test, y_test) = imdb.load_data(num_words=max_num_words);\n",
    "print('Done.');"
   ]
  },
  {
   "cell_type": "code",
   "execution_count": 7,
   "metadata": {},
   "outputs": [
    {
     "name": "stdout",
     "output_type": "stream",
     "text": [
      "Data types: \n",
      "Sentences: <type 'numpy.ndarray'>\n",
      "Labels: <type 'numpy.ndarray'>\n",
      "Data shape:\n",
      "Sentences: (25000,) | labels: (25000,)\n",
      "Example data 0\n",
      "[1, 14, 22, 16, 43, 530, 973, 1622, 1385, 65, 458, 4468, 66, 3941, 4, 173, 36, 256, 5, 25, 100, 43, 838, 112, 50, 670, 2, 9, 35, 480, 284, 5, 150, 4, 172, 112, 167, 2, 336, 385, 39, 4, 172, 4536, 1111, 17, 546, 38, 13, 447, 4, 192, 50, 16, 6, 147, 2025, 19, 14, 22, 4, 1920, 4613, 469, 4, 22, 71, 87, 12, 16, 43, 530, 38, 76, 15, 13, 1247, 4, 22, 17, 515, 17, 12, 16, 626, 18, 2, 5, 62, 386, 12, 8, 316, 8, 106, 5, 4, 2223, 5244, 16, 480, 66, 3785, 33, 4, 130, 12, 16, 38, 619, 5, 25, 124, 51, 36, 135, 48, 25, 1415, 33, 6, 22, 12, 215, 28, 77, 52, 5, 14, 407, 16, 82, 2, 8, 4, 107, 117, 5952, 15, 256, 4, 2, 7, 3766, 5, 723, 36, 71, 43, 530, 476, 26, 400, 317, 46, 7, 4, 2, 1029, 13, 104, 88, 4, 381, 15, 297, 98, 32, 2071, 56, 26, 141, 6, 194, 7486, 18, 4, 226, 22, 21, 134, 476, 26, 480, 5, 144, 30, 5535, 18, 51, 36, 28, 224, 92, 25, 104, 4, 226, 65, 16, 38, 1334, 88, 12, 16, 283, 5, 16, 4472, 113, 103, 32, 15, 16, 5345, 19, 178, 32]\n",
      "Label: 1\n",
      "---\n",
      "Example data 1\n",
      "[1, 194, 1153, 194, 8255, 78, 228, 5, 6, 1463, 4369, 5012, 134, 26, 4, 715, 8, 118, 1634, 14, 394, 20, 13, 119, 954, 189, 102, 5, 207, 110, 3103, 21, 14, 69, 188, 8, 30, 23, 7, 4, 249, 126, 93, 4, 114, 9, 2300, 1523, 5, 647, 4, 116, 9, 35, 8163, 4, 229, 9, 340, 1322, 4, 118, 9, 4, 130, 4901, 19, 4, 1002, 5, 89, 29, 952, 46, 37, 4, 455, 9, 45, 43, 38, 1543, 1905, 398, 4, 1649, 26, 6853, 5, 163, 11, 3215, 2, 4, 1153, 9, 194, 775, 7, 8255, 2, 349, 2637, 148, 605, 2, 8003, 15, 123, 125, 68, 2, 6853, 15, 349, 165, 4362, 98, 5, 4, 228, 9, 43, 2, 1157, 15, 299, 120, 5, 120, 174, 11, 220, 175, 136, 50, 9, 4373, 228, 8255, 5, 2, 656, 245, 2350, 5, 4, 9837, 131, 152, 491, 18, 2, 32, 7464, 1212, 14, 9, 6, 371, 78, 22, 625, 64, 1382, 9, 8, 168, 145, 23, 4, 1690, 15, 16, 4, 1355, 5, 28, 6, 52, 154, 462, 33, 89, 78, 285, 16, 145, 95]\n",
      "Label: 0\n",
      "---\n"
     ]
    }
   ],
   "source": [
    "## Now let's look at how our data are represented\n",
    "print('Data types: ');\n",
    "print('Sentences: '+str(type(x_train)));\n",
    "print('Labels: '+str(type(y_train)));\n",
    "print('Data shape:');\n",
    "print('Sentences: '+str(x_train.shape)+' | labels: '+str(y_train.shape))\n",
    "\n",
    "for i in range(2):\n",
    "    print('Example data '+str(i));\n",
    "    print(x_train[i]);\n",
    "    print('Label: '+str(y_train[i]));\n",
    "    print('---');\n",
    "\n"
   ]
  },
  {
   "cell_type": "markdown",
   "metadata": {},
   "source": [
    "<p> So our sentences are lists of integers, unknown words have been replaced with integer 2 while each sentence starts \n",
    "with integer 1 (the start of sentence symbol). In reality we always keep a dictionary that maps such integers to\n",
    "the actual words (and usually a reverse dictionary as well)</p>\n"
   ]
  },
  {
   "cell_type": "markdown",
   "metadata": {},
   "source": [
    "### 2. Preprocess data\n",
    "<p>In the example above we observe that sentences have different length. In this first example architecture (many-to-one)\n",
    "    we are going to train our networks in <b> batches </b> of sentences/labels. That means that all sentences in a batch should have the same size. To achieve that we will pad sentences by either truncating them (if their length is less than the maximum\n",
    "desired length) or by adding a padding symbol until we reach the maximum desired length. Instead of doing this manually we will\n",
    "rely on a pre-built keras function pad_sequences (see here for details: https://keras.io/preprocessing/sequence/). </p>\n"
   ]
  },
  {
   "cell_type": "code",
   "execution_count": 8,
   "metadata": {},
   "outputs": [
    {
     "name": "stdout",
     "output_type": "stream",
     "text": [
      "Shape before padding: (25000,)\n",
      "Number of unique words after padding: 9999\n",
      "Shape after padding: (25000, 500)\n"
     ]
    }
   ],
   "source": [
    "## Max sequence length\n",
    "max_len = 500;\n",
    "print('Shape before padding: '+str(x_train.shape));\n",
    "x_train = sequence.pad_sequences(x_train, maxlen = max_len);\n",
    "print('Number of unique words after padding: '+str(len(np.unique(x_train))));\n",
    "print('Shape after padding: '+str(x_train.shape)); \n"
   ]
  },
  {
   "cell_type": "markdown",
   "metadata": {},
   "source": [
    "## Training many-to-one recurrent networks for sentiment detection"
   ]
  },
  {
   "cell_type": "markdown",
   "metadata": {},
   "source": [
    "<p> At this point we are ready to train and evaluate our models. We will illustrate and discuss several architectures. Simple RNNs, \n",
    "LSTMs, stacked LSTMs, bidirectional LSTMs and LSTMs that use dropout for <b> regularization </b>. All models use the same\n",
    "code structure to train (only the model definition changes + a few parameters) but we will repeat it for instructional purposes \n",
    "and just in case that you want to run a single model. </p>\n"
   ]
  },
  {
   "cell_type": "markdown",
   "metadata": {},
   "source": [
    "### 1. RNN"
   ]
  },
  {
   "cell_type": "markdown",
   "metadata": {},
   "source": [
    "#### Building the model"
   ]
  },
  {
   "cell_type": "code",
   "execution_count": 9,
   "metadata": {},
   "outputs": [
    {
     "name": "stdout",
     "output_type": "stream",
     "text": [
      "_________________________________________________________________\n",
      "Layer (type)                 Output Shape              Param #   \n",
      "=================================================================\n",
      "embedding_1 (Embedding)      (None, None, 32)          320000    \n",
      "_________________________________________________________________\n",
      "simple_rnn_1 (SimpleRNN)     (None, 32)                2080      \n",
      "_________________________________________________________________\n",
      "dense_1 (Dense)              (None, 1)                 33        \n",
      "=================================================================\n",
      "Total params: 322,113\n",
      "Trainable params: 322,113\n",
      "Non-trainable params: 0\n",
      "_________________________________________________________________\n"
     ]
    }
   ],
   "source": [
    "## We start by instantiating a Sequential keras model instance\n",
    "rnn_model = Sequential();\n",
    "## Now we add the Embedding vector, the embedding vector map integers to their corresponding tensors.\n",
    "## according to the documentation the input dimension is equal to the largest integer (i.e., word_index) +1\n",
    "## and this can get confusing... so do that and get over with it.\n",
    "edim = np.max(np.unique(x_train)) +1;\n",
    "\n",
    "## Next is our embedding dimension (32 in the following examples)\n",
    "\"\"\"\n",
    "Skip this part if running the notebook for the first time.\n",
    "\n",
    "What happens if your initial weights, say for the embeddings are \"too large\"?\n",
    "The output might also be large (in absolute sense always). Now you pass that\n",
    "through a sigmoid function... the output will be binary (either 0 or 1). And your\n",
    "derivative at this point will be zero as well... vanishing gradients problem again\n",
    "(see also the Appendix section for a visualization of the sigmoid and the derivative\n",
    "of the sigmoid)!\n",
    "\n",
    "See (again) here for the same view of the problem (much better presented): \n",
    "https://medium.com/@karpathy/yes-you-should-understand-backprop-e2f06eab496b\n",
    "\n",
    "Uncomment the following three lines and comment the 4th one below and play with the weight factor to\n",
    "see how it affects training (e.g., try values 10,1 and 0.05).\n",
    "\n",
    "Also, plot the loss, how does it look like?\n",
    "\"\"\"\n",
    "# weight_factor = 10.0;\n",
    "# emb_weights = weight_factor*np.random.rand(edim,32); \n",
    "# rnn_model.add(Embedding(input_dim=edim,output_dim=32,trainable=True, weights=[emb_weights])); \n",
    "rnn_model.add(Embedding(input_dim=edim,output_dim=32)); \n",
    "\n",
    "\n",
    "## Now add a simple recurrent network with 32 units\n",
    "rnn_model.add(SimpleRNN(32));   ##this is the only part that we will be changing from now on!\n",
    "## and on top add our dense layer and top it with a signoid activation\n",
    "rnn_model.add(Dense(1,activation='sigmoid'));\n",
    "\n",
    "## Final step is to compile everything together, when we compile the model we need to specify\n",
    "## what optimizer we are going to use, what loss are we going to use, and the metrics of interest\n",
    "## to report. \n",
    "rnn_model.compile(optimizer='rmsprop', loss = 'binary_crossentropy', metrics = ['acc']);\n",
    "\n",
    "## And we can also see what we did\n",
    "rnn_model.summary()"
   ]
  },
  {
   "cell_type": "code",
   "execution_count": 10,
   "metadata": {},
   "outputs": [
    {
     "data": {
      "image/svg+xml": [
       "<svg height=\"268pt\" viewBox=\"0.00 0.00 200.00 268.00\" width=\"200pt\" xmlns=\"http://www.w3.org/2000/svg\" xmlns:xlink=\"http://www.w3.org/1999/xlink\">\n",
       "<g class=\"graph\" id=\"graph0\" transform=\"scale(1 1) rotate(0) translate(4 264)\">\n",
       "<title>G</title>\n",
       "<polygon fill=\"white\" points=\"-4,4 -4,-264 196,-264 196,4 -4,4\" stroke=\"none\"/>\n",
       "<!-- 139705639897168 -->\n",
       "<g class=\"node\" id=\"node1\"><title>139705639897168</title>\n",
       "<polygon fill=\"none\" points=\"-0.5,-223 -0.5,-259 192.5,-259 192.5,-223 -0.5,-223\" stroke=\"black\"/>\n",
       "<text font-family=\"Times,serif\" font-size=\"14.00\" text-anchor=\"middle\" x=\"96\" y=\"-237.3\">embedding_1_input: InputLayer</text>\n",
       "</g>\n",
       "<!-- 139705639812688 -->\n",
       "<g class=\"node\" id=\"node2\"><title>139705639812688</title>\n",
       "<polygon fill=\"none\" points=\"15.5,-149 15.5,-185 176.5,-185 176.5,-149 15.5,-149\" stroke=\"black\"/>\n",
       "<text font-family=\"Times,serif\" font-size=\"14.00\" text-anchor=\"middle\" x=\"96\" y=\"-163.3\">embedding_1: Embedding</text>\n",
       "</g>\n",
       "<!-- 139705639897168&#45;&gt;139705639812688 -->\n",
       "<g class=\"edge\" id=\"edge1\"><title>139705639897168-&gt;139705639812688</title>\n",
       "<path d=\"M96,-222.937C96,-214.807 96,-204.876 96,-195.705\" fill=\"none\" stroke=\"black\"/>\n",
       "<polygon fill=\"black\" points=\"99.5001,-195.441 96,-185.441 92.5001,-195.441 99.5001,-195.441\" stroke=\"black\"/>\n",
       "</g>\n",
       "<!-- 139705639812432 -->\n",
       "<g class=\"node\" id=\"node3\"><title>139705639812432</title>\n",
       "<polygon fill=\"none\" points=\"12.5,-75 12.5,-111 179.5,-111 179.5,-75 12.5,-75\" stroke=\"black\"/>\n",
       "<text font-family=\"Times,serif\" font-size=\"14.00\" text-anchor=\"middle\" x=\"96\" y=\"-89.3\">simple_rnn_1: SimpleRNN</text>\n",
       "</g>\n",
       "<!-- 139705639812688&#45;&gt;139705639812432 -->\n",
       "<g class=\"edge\" id=\"edge2\"><title>139705639812688-&gt;139705639812432</title>\n",
       "<path d=\"M96,-148.937C96,-140.807 96,-130.876 96,-121.705\" fill=\"none\" stroke=\"black\"/>\n",
       "<polygon fill=\"black\" points=\"99.5001,-121.441 96,-111.441 92.5001,-121.441 99.5001,-121.441\" stroke=\"black\"/>\n",
       "</g>\n",
       "<!-- 139705639898576 -->\n",
       "<g class=\"node\" id=\"node4\"><title>139705639898576</title>\n",
       "<polygon fill=\"none\" points=\"45,-1 45,-37 147,-37 147,-1 45,-1\" stroke=\"black\"/>\n",
       "<text font-family=\"Times,serif\" font-size=\"14.00\" text-anchor=\"middle\" x=\"96\" y=\"-15.3\">dense_1: Dense</text>\n",
       "</g>\n",
       "<!-- 139705639812432&#45;&gt;139705639898576 -->\n",
       "<g class=\"edge\" id=\"edge3\"><title>139705639812432-&gt;139705639898576</title>\n",
       "<path d=\"M96,-74.937C96,-66.8072 96,-56.8761 96,-47.7047\" fill=\"none\" stroke=\"black\"/>\n",
       "<polygon fill=\"black\" points=\"99.5001,-47.4406 96,-37.4407 92.5001,-47.4407 99.5001,-47.4406\" stroke=\"black\"/>\n",
       "</g>\n",
       "</g>\n",
       "</svg>"
      ],
      "text/plain": [
       "<IPython.core.display.SVG object>"
      ]
     },
     "execution_count": 10,
     "metadata": {},
     "output_type": "execute_result"
    }
   ],
   "source": [
    "## We can also visualize things if we install pydot and graphviz... \n",
    "from IPython.display import SVG\n",
    "from keras.utils.vis_utils import model_to_dot\n",
    "\n",
    "SVG(model_to_dot(rnn_model).create(prog='dot', format='svg'))"
   ]
  },
  {
   "cell_type": "markdown",
   "metadata": {},
   "source": [
    "#### Training the model"
   ]
  },
  {
   "cell_type": "code",
   "execution_count": 11,
   "metadata": {},
   "outputs": [
    {
     "name": "stdout",
     "output_type": "stream",
     "text": [
      "Train on 20000 samples, validate on 5000 samples\n",
      "Epoch 1/10\n",
      "20000/20000 [==============================] - 34s 2ms/step - loss: 0.6494 - acc: 0.6170 - val_loss: 0.4908 - val_acc: 0.7960\n",
      "Epoch 2/10\n",
      "20000/20000 [==============================] - 32s 2ms/step - loss: 0.4112 - acc: 0.8251 - val_loss: 0.3858 - val_acc: 0.8334\n",
      "Epoch 3/10\n",
      "20000/20000 [==============================] - 32s 2ms/step - loss: 0.3026 - acc: 0.8785 - val_loss: 0.3728 - val_acc: 0.8564\n",
      "Epoch 4/10\n",
      "20000/20000 [==============================] - 32s 2ms/step - loss: 0.2343 - acc: 0.9107 - val_loss: 0.3807 - val_acc: 0.8436\n",
      "Epoch 5/10\n",
      "20000/20000 [==============================] - 31s 2ms/step - loss: 0.1683 - acc: 0.9379 - val_loss: 0.4083 - val_acc: 0.8248\n",
      "Epoch 6/10\n",
      "20000/20000 [==============================] - 32s 2ms/step - loss: 0.1195 - acc: 0.9592 - val_loss: 0.4422 - val_acc: 0.8494\n",
      "Epoch 7/10\n",
      "20000/20000 [==============================] - 31s 2ms/step - loss: 0.0751 - acc: 0.9753 - val_loss: 0.4590 - val_acc: 0.8510\n",
      "Epoch 8/10\n",
      "20000/20000 [==============================] - 31s 2ms/step - loss: 0.0509 - acc: 0.9838 - val_loss: 0.5986 - val_acc: 0.7886\n",
      "Epoch 9/10\n",
      "20000/20000 [==============================] - 31s 2ms/step - loss: 0.0345 - acc: 0.9896 - val_loss: 0.5645 - val_acc: 0.8280\n",
      "Epoch 10/10\n",
      "20000/20000 [==============================] - 32s 2ms/step - loss: 0.0204 - acc: 0.9939 - val_loss: 0.5976 - val_acc: 0.8266\n",
      "Total time: 317.763134956\n"
     ]
    }
   ],
   "source": [
    "## In these examples we will use the model fit function to train, the model fit function returns a \n",
    "## history object which is very useful when we want to visualize at the end our model's performance\n",
    "## we will deal with the visualization part at the end when we will compare the performance of all\n",
    "## recurrent neural networks. \n",
    "\n",
    "\n",
    "\n",
    "## For details and other options that you can use in the fit function see: https://keras.io/models/sequential/\n",
    "stime = time.time();\n",
    "rnn_history = rnn_model.fit(x_train, y_train,\n",
    "                       epochs = 10, ##number of epochs (passes through the data)\n",
    "                       batch_size = 128, ##batch size\n",
    "                       validation_split = 0.2, ##fraction of data to be used as validation\n",
    "                       shuffle = True ##shuffle data after each epoch\n",
    "                       );\n",
    "etime = time.time();\n",
    "print('Total time: '+str(etime-stime));\n"
   ]
  },
  {
   "cell_type": "markdown",
   "metadata": {},
   "source": [
    "### 2. LSTM\n",
    "\n",
    "We follow exactly the same process as illustrated on the case of the RNN, the ONLY thing that changes\n",
    "is the type of the recurrent layer that we will use (and the fact that we now have fewer comments and\n",
    "do not plot summaries or architectures for the models)"
   ]
  },
  {
   "cell_type": "code",
   "execution_count": 12,
   "metadata": {},
   "outputs": [
    {
     "name": "stdout",
     "output_type": "stream",
     "text": [
      "Train on 20000 samples, validate on 5000 samples\n",
      "Epoch 1/10\n",
      "20000/20000 [==============================] - 185s 9ms/step - loss: 0.5085 - acc: 0.7621 - val_loss: 0.3547 - val_acc: 0.8698\n",
      "Epoch 2/10\n",
      "20000/20000 [==============================] - 183s 9ms/step - loss: 0.2969 - acc: 0.8872 - val_loss: 0.2971 - val_acc: 0.8788\n",
      "Epoch 3/10\n",
      "20000/20000 [==============================] - 182s 9ms/step - loss: 0.2347 - acc: 0.9105 - val_loss: 0.2941 - val_acc: 0.8838\n",
      "Epoch 4/10\n",
      "20000/20000 [==============================] - 178s 9ms/step - loss: 0.1971 - acc: 0.9270 - val_loss: 0.4509 - val_acc: 0.8002\n",
      "Epoch 5/10\n",
      "20000/20000 [==============================] - 178s 9ms/step - loss: 0.1792 - acc: 0.9351 - val_loss: 0.2870 - val_acc: 0.8804\n",
      "Epoch 6/10\n",
      "20000/20000 [==============================] - 177s 9ms/step - loss: 0.1555 - acc: 0.9437 - val_loss: 0.4761 - val_acc: 0.8538\n",
      "Epoch 7/10\n",
      "20000/20000 [==============================] - 175s 9ms/step - loss: 0.1474 - acc: 0.9481 - val_loss: 0.3565 - val_acc: 0.8846\n",
      "Epoch 8/10\n",
      "20000/20000 [==============================] - 176s 9ms/step - loss: 0.1334 - acc: 0.9530 - val_loss: 0.3217 - val_acc: 0.8870\n",
      "Epoch 9/10\n",
      "20000/20000 [==============================] - 176s 9ms/step - loss: 0.1220 - acc: 0.9580 - val_loss: 0.3622 - val_acc: 0.8780\n",
      "Epoch 10/10\n",
      "20000/20000 [==============================] - 175s 9ms/step - loss: 0.1127 - acc: 0.9610 - val_loss: 0.3491 - val_acc: 0.8816\n",
      "Total time: 1786.7988379\n"
     ]
    }
   ],
   "source": [
    "lstm_model = Sequential();\n",
    "lstm_model.add(Embedding(input_dim=edim,output_dim=32,mask_zero=True)); \n",
    "\n",
    "##instead of a simple rnn now define a LSTM\n",
    "lstm_model.add(LSTM(32));   \n",
    "\n",
    "lstm_model.add(Dense(1,activation='sigmoid'));\n",
    "\n",
    "lstm_model.compile(optimizer='rmsprop', loss = 'binary_crossentropy', metrics = ['acc']);\n",
    "\n",
    "stime = time.time();\n",
    "lstm_history = lstm_model.fit(x_train, y_train,\n",
    "                       epochs = 10, ##number of epochs (passes through the data)\n",
    "                       batch_size = 128, ##batch size\n",
    "                       validation_split = 0.2, ##fraction of data to be used as validation\n",
    "                       shuffle = True ##shuffle data after each epoch\n",
    "                       );\n",
    "etime = time.time();\n",
    "print('Total time: '+str(etime-stime));"
   ]
  },
  {
   "cell_type": "markdown",
   "metadata": {},
   "source": [
    "### 3. LSTM + dropout\n"
   ]
  },
  {
   "cell_type": "markdown",
   "metadata": {},
   "source": [
    "![title](img/lstm_dropout.jpg)\n"
   ]
  },
  {
   "cell_type": "markdown",
   "metadata": {},
   "source": [
    "<b> Dropout in recurrent networks. </b>"
   ]
  },
  {
   "cell_type": "code",
   "execution_count": 13,
   "metadata": {},
   "outputs": [
    {
     "name": "stdout",
     "output_type": "stream",
     "text": [
      "Train on 20000 samples, validate on 5000 samples\n",
      "Epoch 1/10\n",
      "20000/20000 [==============================] - 197s 10ms/step - loss: 0.6869 - acc: 0.5605 - val_loss: 0.6732 - val_acc: 0.6474\n",
      "Epoch 2/10\n",
      "20000/20000 [==============================] - 195s 10ms/step - loss: 0.6443 - acc: 0.6537 - val_loss: 0.5993 - val_acc: 0.7034\n",
      "Epoch 3/10\n",
      "20000/20000 [==============================] - 196s 10ms/step - loss: 0.5748 - acc: 0.7070 - val_loss: 0.5352 - val_acc: 0.7354\n",
      "Epoch 4/10\n",
      "20000/20000 [==============================] - 196s 10ms/step - loss: 0.5294 - acc: 0.7399 - val_loss: 0.5146 - val_acc: 0.7414\n",
      "Epoch 5/10\n",
      "20000/20000 [==============================] - 199s 10ms/step - loss: 0.5005 - acc: 0.7649 - val_loss: 0.4957 - val_acc: 0.7584\n",
      "Epoch 6/10\n",
      "20000/20000 [==============================] - 196s 10ms/step - loss: 0.4844 - acc: 0.7744 - val_loss: 0.4805 - val_acc: 0.7640\n",
      "Epoch 7/10\n",
      "20000/20000 [==============================] - 198s 10ms/step - loss: 0.4663 - acc: 0.7861 - val_loss: 0.4776 - val_acc: 0.7684\n",
      "Epoch 8/10\n",
      "20000/20000 [==============================] - 198s 10ms/step - loss: 0.4515 - acc: 0.7963 - val_loss: 0.4757 - val_acc: 0.7726\n",
      "Epoch 9/10\n",
      "20000/20000 [==============================] - 197s 10ms/step - loss: 0.4375 - acc: 0.8048 - val_loss: 0.4678 - val_acc: 0.7750\n",
      "Epoch 10/10\n",
      "20000/20000 [==============================] - 200s 10ms/step - loss: 0.4314 - acc: 0.8110 - val_loss: 0.4745 - val_acc: 0.7726\n",
      "Total time: 1973.01661277\n"
     ]
    }
   ],
   "source": [
    "drop_lstm_model = Sequential();\n",
    "drop_lstm_model.add(Embedding(input_dim=edim,output_dim=32,mask_zero=True)); \n",
    "\n",
    "## Lets add some dropout to our basic LSTM. dropout here is to the input/output connection and recurrent to\n",
    "## the recurrent connection as we have illustrated in the figure above\n",
    "drop_lstm_model.add(LSTM(32,dropout=0.8, recurrent_dropout=0.75));   \n",
    "\n",
    "drop_lstm_model.add(Dense(1,activation='sigmoid'));\n",
    "\n",
    "drop_lstm_model.compile(optimizer='rmsprop', loss = 'binary_crossentropy', metrics = ['acc']);\n",
    "\n",
    "stime = time.time();\n",
    "drop_lstm_history = drop_lstm_model.fit(x_train, y_train,\n",
    "                       epochs = 10, ##number of epochs (passes through the data)\n",
    "                       batch_size = 128, ##batch size\n",
    "                       validation_split = 0.2, ##fraction of data to be used as validation\n",
    "                       shuffle = True ##shuffle data after each epoch\n",
    "                       );\n",
    "etime = time.time();\n",
    "print('Total time: '+str(etime-stime));"
   ]
  },
  {
   "cell_type": "markdown",
   "metadata": {},
   "source": [
    "### 4. Stacked LSTM"
   ]
  },
  {
   "cell_type": "markdown",
   "metadata": {},
   "source": [
    "![as](img/lstm_stacked.jpg)\n"
   ]
  },
  {
   "cell_type": "markdown",
   "metadata": {},
   "source": [
    "<b> Example of a stacked recurrent architecture. </b>"
   ]
  },
  {
   "cell_type": "markdown",
   "metadata": {},
   "source": [
    "<p>An interesting idea of using hierarchical architectures for sentiment detection is to have a first RNN decode sentences (or spans of words in a sentence) and a second one accepting such sentence representations. Intuition is that the first RNN learns sentiment of sentences while the second one learns sentiment of the document based on sentiment of sentences. See <i> Tang, Duyu, Bing Qin, and Ting Liu. \"Document modeling with gated recurrent neural network for sentiment classification.\" Proceedings of the 2015 conference on empirical methods in natural language processing. 2015.</i></p>"
   ]
  },
  {
   "cell_type": "code",
   "execution_count": 14,
   "metadata": {},
   "outputs": [
    {
     "name": "stdout",
     "output_type": "stream",
     "text": [
      "Train on 20000 samples, validate on 5000 samples\n",
      "Epoch 1/10\n",
      "20000/20000 [==============================] - 363s 18ms/step - loss: 0.5003 - acc: 0.7530 - val_loss: 0.4352 - val_acc: 0.8222\n",
      "Epoch 2/10\n",
      "20000/20000 [==============================] - 360s 18ms/step - loss: 0.3086 - acc: 0.8815 - val_loss: 0.3031 - val_acc: 0.8786\n",
      "Epoch 3/10\n",
      "20000/20000 [==============================] - 362s 18ms/step - loss: 0.2413 - acc: 0.9105 - val_loss: 0.4328 - val_acc: 0.8668\n",
      "Epoch 4/10\n",
      "20000/20000 [==============================] - 361s 18ms/step - loss: 0.2098 - acc: 0.9233 - val_loss: 0.2935 - val_acc: 0.8848\n",
      "Epoch 5/10\n",
      "20000/20000 [==============================] - 360s 18ms/step - loss: 0.1828 - acc: 0.9354 - val_loss: 0.4025 - val_acc: 0.8744\n",
      "Epoch 6/10\n",
      "20000/20000 [==============================] - 362s 18ms/step - loss: 0.1646 - acc: 0.9431 - val_loss: 0.3224 - val_acc: 0.8786\n",
      "Epoch 7/10\n",
      "20000/20000 [==============================] - 361s 18ms/step - loss: 0.1489 - acc: 0.9474 - val_loss: 0.3692 - val_acc: 0.8756\n",
      "Epoch 8/10\n",
      "20000/20000 [==============================] - 358s 18ms/step - loss: 0.1404 - acc: 0.9505 - val_loss: 0.3217 - val_acc: 0.8786\n",
      "Epoch 9/10\n",
      "20000/20000 [==============================] - 359s 18ms/step - loss: 0.1273 - acc: 0.9547 - val_loss: 0.4688 - val_acc: 0.8570\n",
      "Epoch 10/10\n",
      "20000/20000 [==============================] - 358s 18ms/step - loss: 0.1152 - acc: 0.9597 - val_loss: 0.5263 - val_acc: 0.8392\n",
      "Total time: 3607.4302671\n"
     ]
    }
   ],
   "source": [
    "stacked_lstm_model = Sequential();\n",
    "stacked_lstm_model.add(Embedding(input_dim=edim,output_dim=32,mask_zero=True)); \n",
    "\n",
    "## Instead of a LSTM we will define a stacked - hierarchical LSTM. The trick is that\n",
    "## the next LSTM layer needs input from the previous layer, so what we need to do\n",
    "## is to ask for the first layer to return its sequences. So by setting return sequences = True\n",
    "## we do not only return the last output of the input sequence but the full output\n",
    "stacked_lstm_model.add(LSTM(32, return_sequences = True));   \n",
    "## Lets add one more layer on top\n",
    "stacked_lstm_model.add(LSTM(16));\n",
    "\n",
    "\n",
    "stacked_lstm_model.add(Dense(1,activation='sigmoid'));\n",
    "\n",
    "stacked_lstm_model.compile(optimizer='rmsprop', loss = 'binary_crossentropy', metrics = ['acc']);\n",
    "\n",
    "stime = time.time();\n",
    "stacked_lstm_history = stacked_lstm_model.fit(x_train, y_train,\n",
    "                       epochs = 10, ##number of epochs (passes through the data)\n",
    "                       batch_size = 128, ##batch size\n",
    "                       validation_split = 0.2, ##fraction of data to be used as validation\n",
    "                       shuffle = True ##shuffle data after each epoch\n",
    "                       );\n",
    "etime = time.time();\n",
    "print('Total time: '+str(etime-stime));"
   ]
  },
  {
   "cell_type": "markdown",
   "metadata": {},
   "source": [
    "### 5. Bidirectional LSTM"
   ]
  },
  {
   "cell_type": "markdown",
   "metadata": {},
   "source": [
    "![title](img/lstm_bidirectional.jpg)\n"
   ]
  },
  {
   "cell_type": "markdown",
   "metadata": {},
   "source": [
    "<b> Example architecture of a bidirectional recurrent architecture. </b>"
   ]
  },
  {
   "cell_type": "code",
   "execution_count": 15,
   "metadata": {},
   "outputs": [
    {
     "name": "stdout",
     "output_type": "stream",
     "text": [
      "Train on 20000 samples, validate on 5000 samples\n",
      "Epoch 1/10\n",
      "20000/20000 [==============================] - 230s 11ms/step - loss: 0.4939 - acc: 0.7613 - val_loss: 0.4040 - val_acc: 0.8120\n",
      "Epoch 2/10\n",
      "20000/20000 [==============================] - 229s 11ms/step - loss: 0.3067 - acc: 0.8777 - val_loss: 0.3164 - val_acc: 0.8848\n",
      "Epoch 3/10\n",
      "20000/20000 [==============================] - 228s 11ms/step - loss: 0.2418 - acc: 0.9089 - val_loss: 0.3192 - val_acc: 0.8814\n",
      "Epoch 4/10\n",
      "20000/20000 [==============================] - 227s 11ms/step - loss: 0.1937 - acc: 0.9285 - val_loss: 0.2835 - val_acc: 0.8828\n",
      "Epoch 5/10\n",
      "20000/20000 [==============================] - 229s 11ms/step - loss: 0.1700 - acc: 0.9372 - val_loss: 0.2773 - val_acc: 0.8908\n",
      "Epoch 6/10\n",
      "20000/20000 [==============================] - 227s 11ms/step - loss: 0.1489 - acc: 0.9464 - val_loss: 0.2976 - val_acc: 0.8918\n",
      "Epoch 7/10\n",
      "20000/20000 [==============================] - 226s 11ms/step - loss: 0.1326 - acc: 0.9534 - val_loss: 0.2911 - val_acc: 0.8820\n",
      "Epoch 8/10\n",
      "20000/20000 [==============================] - 227s 11ms/step - loss: 0.1194 - acc: 0.9569 - val_loss: 0.3890 - val_acc: 0.8864\n",
      "Epoch 9/10\n",
      "20000/20000 [==============================] - 227s 11ms/step - loss: 0.1091 - acc: 0.9620 - val_loss: 0.3475 - val_acc: 0.8848\n",
      "Epoch 10/10\n",
      "20000/20000 [==============================] - 228s 11ms/step - loss: 0.0964 - acc: 0.9651 - val_loss: 0.4083 - val_acc: 0.8870\n",
      "Total time: 2280.513731\n"
     ]
    }
   ],
   "source": [
    "bilstm_model = Sequential();\n",
    "bilstm_model.add(Embedding(input_dim=edim,output_dim=32,mask_zero=True)); \n",
    "\n",
    "## Instead of a simple rnn now define a LSTM\n",
    "## bi-directional is a wrapper layer here that hides from us the fact that it\n",
    "## runs separately two LSTMs and then concats the output\n",
    "bilstm_model.add(Bidirectional(LSTM(32)));   \n",
    "\n",
    "bilstm_model.add(Dense(1,activation='sigmoid'));\n",
    "\n",
    "bilstm_model.compile(optimizer='rmsprop', loss = 'binary_crossentropy', metrics = ['acc']);\n",
    "\n",
    "\n",
    "\n",
    "stime = time.time();\n",
    "bilstm_history = bilstm_model.fit(x_train, y_train,\n",
    "                       epochs = 10, ##number of epochs (passes through the data)\n",
    "                       batch_size = 128, ##batch size\n",
    "                       validation_split = 0.2, ##fraction of data to be used as validation\n",
    "                       shuffle = True ##shuffle data after each epoch\n",
    "                       );\n",
    "etime = time.time();\n",
    "print('Total time: '+str(etime-stime));"
   ]
  },
  {
   "cell_type": "markdown",
   "metadata": {},
   "source": [
    "## Results - Visualization"
   ]
  },
  {
   "cell_type": "code",
   "execution_count": 16,
   "metadata": {},
   "outputs": [
    {
     "data": {
      "image/png": "[encoded data removed]",
      "text/plain": [
       "<matplotlib.figure.Figure at 0x7f044d3206d0>"
      ]
     },
     "metadata": {},
     "output_type": "display_data"
    }
   ],
   "source": [
    "plt.figure(figsize=[15,8]);\n",
    "\n",
    "## First we will plot the train and validation(test) accuracy at each epoch.\n",
    "## The history returned from the fit(...) method has everything we need!\n",
    "plt.plot(rnn_history.history['acc'],'-bo',linewidth=2,label='RNN Train');\n",
    "plt.plot(lstm_history.history['acc'],'-ro',linewidth=2,label='LSTM Train');\n",
    "plt.plot(drop_lstm_history.history['acc'],'-go',linewidth=2,label='LSTM + dropout Train');\n",
    "plt.plot(stacked_lstm_history.history['acc'],'-mo',linewidth=2,label='Stacked LSTM Train');\n",
    "plt.plot(bilstm_history.history['acc'],'-ko',linewidth=2,label='BiLSTM Train');\n",
    "\n",
    "plt.plot(rnn_history.history['val_acc'],':bo',linewidth=2,label='RNN Test');\n",
    "plt.plot(lstm_history.history['val_acc'],':ro',linewidth=2,label='LSTM Test');\n",
    "plt.plot(drop_lstm_history.history['val_acc'],':go',linewidth=2,label='LSTM + dropout Test');\n",
    "plt.plot(stacked_lstm_history.history['val_acc'],':mo',linewidth=2,label='Stacked LSTM Test');\n",
    "plt.plot(bilstm_history.history['val_acc'],':ko',linewidth=2,label='BiLSTM Test');\n",
    "\n",
    "plt.xlabel('Epoch');\n",
    "plt.ylabel('Accuracy');\n",
    "plt.legend();"
   ]
  },
  {
   "cell_type": "code",
   "execution_count": 17,
   "metadata": {},
   "outputs": [
    {
     "data": {
      "image/png": "[encoded data removed]",
      "text/plain": [
       "<matplotlib.figure.Figure at 0x7f044c1d8150>"
      ]
     },
     "metadata": {},
     "output_type": "display_data"
    }
   ],
   "source": [
    "plt.figure(figsize=[15,8]);\n",
    "## Then we will plot the train and validation(test) loss at each epoch.\n",
    "plt.plot(rnn_history.history['loss'],'-bo',linewidth=2,label='RNN Train');\n",
    "plt.plot(lstm_history.history['loss'],'-ro',linewidth=2,label='LSTM Train');\n",
    "plt.plot(drop_lstm_history.history['loss'],'-go',linewidth=2,label='LSTM + dropout Train');\n",
    "plt.plot(stacked_lstm_history.history['loss'],'-mo',linewidth=2,label='Stacked LSTM Train');\n",
    "plt.plot(bilstm_history.history['loss'],'-ko',linewidth=2,label='BiLSTM Train');\n",
    "\n",
    "plt.plot(rnn_history.history['val_loss'],':bo',linewidth=2,label='RNN Test');\n",
    "plt.plot(lstm_history.history['val_loss'],':ro',linewidth=2,label='LSTM Test');\n",
    "plt.plot(drop_lstm_history.history['val_loss'],':go',linewidth=2,label='LSTM + dropout Test');\n",
    "plt.plot(stacked_lstm_history.history['val_loss'],':mo',linewidth=2,label='Stacked LSTM Test');\n",
    "plt.plot(bilstm_history.history['val_loss'],':ko',linewidth=2,label='BiLSTM Test');\n",
    "\n",
    "plt.xlabel('Epoch');\n",
    "plt.ylabel('Loss');\n",
    "plt.legend();"
   ]
  },
  {
   "cell_type": "markdown",
   "metadata": {},
   "source": [
    "# Many-to-many recurrent neural netwokrs "
   ]
  },
  {
   "cell_type": "markdown",
   "metadata": {},
   "source": [
    "## The problem"
   ]
  },
  {
   "cell_type": "markdown",
   "metadata": {},
   "source": [
    "<p> In this section we will deal with the problem of <b> named entity recognition </b>. As the name suggests the problem is, given a sentence (e.g., John lives in New York and works at Facebook) to identify the (named) entities in that sentence (John, New York, Facebook) as well as the entity type (Person, Location, Organization).  </p>\n",
    "\n",
    "<p> It is easy to understand that in this problem our input to the recurrent network will be a sequence and the output will also be a sequence (of named entities) as well - a \"many-to-many\" relationship. </p>\n",
    "\n",
    "<p> Here is an example of a tagged sentence from our data: </p>\n",
    "\n",
    "EU  B-ORG <br/>\n",
    "rejects  O <br/>\n",
    "German  B-MISC <br/>\n",
    "call  O <br/>\n",
    "to  O <br/>\n",
    "boycott  O <br/>\n",
    "British  B-MISC <br/>\n",
    "lamb   O <br/>\n",
    ".  O <br/>\n",
    "\n",
    "<p> The tags of the dataset are MISC,PER,ORG,LOC and O corresponding to miscellaneous, person, organization, location and \"other\" respectively. Each tag has a prefix B/I which determines the order of the named entity (e.g., New York -> B-LOC I-LOC) </p>"
   ]
  },
  {
   "cell_type": "markdown",
   "metadata": {},
   "source": [
    "![title](img/many_to_many_simple.jpg)\n"
   ]
  },
  {
   "cell_type": "markdown",
   "metadata": {},
   "source": [
    "<b> Many-to-one architecture example.  </b>"
   ]
  },
  {
   "cell_type": "markdown",
   "metadata": {},
   "source": [
    "## Loading and parsing the data\n",
    "\n",
    "To keep things cleaner, and for time's shake we will use the <b> ner_data_loader.py </b> script to load the data. The script is well documented and you can refer to it after the end of the class to see the details. Functions in there are pretty trivial and deal mostly with parsing files and getting everything to a shape similar to what we get from the imdb.load_data() function"
   ]
  },
  {
   "cell_type": "code",
   "execution_count": 18,
   "metadata": {},
   "outputs": [
    {
     "name": "stdout",
     "output_type": "stream",
     "text": [
      "Parsing data\n",
      "Done.\n",
      "Sentences: 11373\n",
      "Max sentence length: 62\n",
      "Min sentence length: 5\n",
      "Unique words on corpus: 23624\n",
      "Unique labels on corpus: 9\n",
      "Pruning non-frequent words, keeping top 20000\n",
      "Unique words in data: 19522\n",
      "Unique labels in data: 9\n"
     ]
    }
   ],
   "source": [
    "fname = \"train.txt\"; #filename holding the data, should be at the same folder as this notebook, else specify a full path\n",
    "\n",
    "##step 1. Load the raw data, keep sentences with length ranging from [min_length, max_length]\n",
    "sentences, sentence_labels = ner_data_loader.load_data(fname,min_length=5,max_length=64,)\n",
    "##step 2. construct dictionaries mapping words and labels to integer indices and vice versa\n",
    "word_to_ind, ind_to_word, label_to_ind, ind_to_label = ner_data_loader.get_dictionaries(sentences, sentence_labels);\n",
    "##step 3. Bring the data to the same format (list of lists) that we used in the imdb.load_data() function.\n",
    "## here we do not use a start symbol.\n",
    "sentences_ind = ner_data_loader.to_index(sentences,word_to_ind);\n",
    "sentence_labels_ind = ner_data_loader.to_index(sentence_labels, label_to_ind);"
   ]
  },
  {
   "cell_type": "code",
   "execution_count": 19,
   "metadata": {},
   "outputs": [
    {
     "name": "stdout",
     "output_type": "stream",
     "text": [
      "Sentence example: \n",
      "[2, 3, 4, 5, 6, 7, 8, 9, 10]\n",
      "Labels for sentence\n",
      "[1, 2, 3, 2, 2, 2, 3, 2, 2]\n"
     ]
    }
   ],
   "source": [
    "print('Sentence example: ');\n",
    "print(sentences_ind[0]);\n",
    "print('Labels for sentence');\n",
    "print(sentence_labels_ind[0])"
   ]
  },
  {
   "cell_type": "markdown",
   "metadata": {},
   "source": [
    "## Preparing the data"
   ]
  },
  {
   "cell_type": "markdown",
   "metadata": {},
   "source": [
    "Similarly to what we did before we will start by padding the sentences to the same length. \n",
    "Since now the labels are not 0/1 but have the same length as the corresponding sentence, \n",
    "labels will need to be padded as well."
   ]
  },
  {
   "cell_type": "code",
   "execution_count": 20,
   "metadata": {},
   "outputs": [],
   "source": [
    "max_len = 64;  ##max sentence length\n",
    "x_train = sequence.pad_sequences(sentences_ind, maxlen=max_len);\n",
    "y_train = sequence.pad_sequences(sentence_labels_ind, maxlen=max_len)\n"
   ]
  },
  {
   "cell_type": "markdown",
   "metadata": {},
   "source": [
    "We are dealing with categorical data and not with a binary 0/1 example. So what we need to do is to\n",
    "one-hot encode the binary labels in sentence_labels_ind to one hot-vectors. We will use the function\n",
    "below to do so."
   ]
  },
  {
   "cell_type": "code",
   "execution_count": 21,
   "metadata": {},
   "outputs": [],
   "source": [
    "\n",
    "\"\"\"\n",
    "Function that one-hot encodes the integer labels. \n",
    "\n",
    "Inputs:\n",
    "    y_train (nd-array): An array of size [samples, max_len] holding the padded labels of each sentence\n",
    "Returns:\n",
    "    y_train_onehot (nd-array): An array of size [samples, max_len, one_hot_vector_size]. The one hot vector\n",
    "    length is 1 + the original labels (the +1 comes for the padding symbol)\n",
    "\"\"\"\n",
    "def one_hot_encode(y_train):\n",
    "    ##dimensions ndata x time_ x labels+1\n",
    "    n_labels_p1 = len(np.unique(y_train)); ##number of labels +1 since y_train is padded\n",
    "    y_train_onehot = np.zeros([y_train.shape[0], y_train.shape[1], n_labels_p1]); \n",
    "    \n",
    "    for i in np.arange(y_train.shape[0]):\n",
    "        for j in np.arange(y_train.shape[1]):\n",
    "            y_train_onehot[i][j] = to_categorical(y_train[i][j], n_labels_p1);\n",
    "    return y_train_onehot;"
   ]
  },
  {
   "cell_type": "code",
   "execution_count": 22,
   "metadata": {},
   "outputs": [
    {
     "name": "stdout",
     "output_type": "stream",
     "text": [
      "Shape before... (11373, 64)\n",
      "Shape after... (11373, 64, 10)\n",
      "Example 1-hot label for the first word of the first sentence\n",
      "[1. 0. 0. 0. 0. 0. 0. 0. 0. 0.]\n"
     ]
    }
   ],
   "source": [
    "##and let's one hot encode...\n",
    "print('Shape before... '+str(y_train.shape));\n",
    "y_train = one_hot_encode(y_train);\n",
    "print('Shape after... '+str(y_train.shape));\n",
    "print('Example 1-hot label for the first word of the first sentence')\n",
    "print(y_train[0][0])"
   ]
  },
  {
   "cell_type": "markdown",
   "metadata": {},
   "source": [
    "## Building and compiling the model "
   ]
  },
  {
   "cell_type": "code",
   "execution_count": 23,
   "metadata": {},
   "outputs": [],
   "source": [
    "##nothing to see here same as before\n",
    "embedding_input_dim = np.max(np.unique(x_train))+1;\n",
    "embedding_dim = 128;\n",
    "hidden_size = 64;\n",
    "mlp_size = 32;\n",
    "n_outputs = len(label_to_ind)+1;\n",
    "batch_size = 64;\n"
   ]
  },
  {
   "cell_type": "code",
   "execution_count": 24,
   "metadata": {},
   "outputs": [
    {
     "name": "stdout",
     "output_type": "stream",
     "text": [
      "_________________________________________________________________\n",
      "Layer (type)                 Output Shape              Param #   \n",
      "=================================================================\n",
      "embedding_6 (Embedding)      (None, 64, 128)           2498944   \n",
      "_________________________________________________________________\n",
      "bidirectional_2 (Bidirection (None, 64, 128)           98816     \n",
      "_________________________________________________________________\n",
      "time_distributed_1 (TimeDist (None, 64, 32)            4128      \n",
      "_________________________________________________________________\n",
      "dense_7 (Dense)              (None, 64, 10)            330       \n",
      "=================================================================\n",
      "Total params: 2,602,218\n",
      "Trainable params: 2,602,218\n",
      "Non-trainable params: 0\n",
      "_________________________________________________________________\n"
     ]
    }
   ],
   "source": [
    "## Here's the main model.\n",
    "ner_model = Sequential();\n",
    "## Important part number one, we will need to use the TimeDistributed WRAPPER. That wrapper applies a\n",
    "## layer to each (temporal) part of the sequence (we'll discuss it more in class).\n",
    "## So, we need to use set input_length argument, which signifies that all sequences will have\n",
    "## a fixed size of max_len (the maximum sentence length defined earlier)\n",
    "ner_model.add(Embedding(input_dim=embedding_input_dim, \n",
    "                        output_dim=embedding_dim, \n",
    "                        mask_zero=False,\n",
    "                        input_length = max_len));\n",
    "\n",
    "## Important part number two, our LSTMs NEEEEED to return the sequences so we can apply a layer/function\n",
    "## to all the parts of the sequence. \n",
    "\n",
    "ner_model.add(Bidirectional(\n",
    "            LSTM(hidden_size, return_sequences=True, dropout=0.5, recurrent_dropout=0.5)\n",
    "          ));\n",
    "\n",
    "\n",
    "# ner_model.add(SimpleRNN(2, return_sequences=True));\n",
    "\n",
    "# #ner_model.add(LSTM(128, return_sequences=True));\n",
    "\n",
    "\n",
    "## We use softmax since n_classes > 1 to get a pseudo-probability for each class\n",
    "ner_model.add(TimeDistributed(Dense(mlp_size)));\n",
    "ner_model.add(Dense(n_outputs, activation='softmax'));\n",
    "\n",
    "#ner_model.add(TimeDistributed(Dense(n_outputs, activation='softmax')));\n",
    "\n",
    "## We also need to use categorical crossentropy (which implies > 1 classes with 1 hot vectors)\n",
    "ner_model.compile(loss = 'categorical_crossentropy', optimizer = 'rmsprop',metrics=['acc']);\n",
    "\n",
    "## And, we ready to roll\n",
    "ner_model.summary()\n"
   ]
  },
  {
   "cell_type": "markdown",
   "metadata": {},
   "source": [
    "## Train the model"
   ]
  },
  {
   "cell_type": "code",
   "execution_count": 25,
   "metadata": {
    "scrolled": false
   },
   "outputs": [
    {
     "name": "stdout",
     "output_type": "stream",
     "text": [
      "Train on 9098 samples, validate on 2275 samples\n",
      "Epoch 1/10\n",
      "9098/9098 [==============================] - 107s 12ms/step - loss: 0.1949 - acc: 0.9489 - val_loss: 0.0979 - val_acc: 0.9707\n",
      "Epoch 2/10\n",
      "9098/9098 [==============================] - 101s 11ms/step - loss: 0.0632 - acc: 0.9811 - val_loss: 0.0640 - val_acc: 0.9821\n",
      "Epoch 3/10\n",
      "9098/9098 [==============================] - 101s 11ms/step - loss: 0.0344 - acc: 0.9905 - val_loss: 0.0545 - val_acc: 0.9846\n",
      "Epoch 4/10\n",
      "9098/9098 [==============================] - 101s 11ms/step - loss: 0.0219 - acc: 0.9940 - val_loss: 0.0481 - val_acc: 0.9864\n",
      "Epoch 5/10\n",
      "9098/9098 [==============================] - 101s 11ms/step - loss: 0.0162 - acc: 0.9956 - val_loss: 0.0494 - val_acc: 0.9852\n",
      "Epoch 6/10\n",
      "9098/9098 [==============================] - 100s 11ms/step - loss: 0.0128 - acc: 0.9966 - val_loss: 0.0469 - val_acc: 0.9874\n",
      "Epoch 7/10\n",
      "9098/9098 [==============================] - 100s 11ms/step - loss: 0.0107 - acc: 0.9972 - val_loss: 0.0497 - val_acc: 0.9848\n",
      "Epoch 8/10\n",
      "9098/9098 [==============================] - 100s 11ms/step - loss: 0.0091 - acc: 0.9976 - val_loss: 0.0457 - val_acc: 0.9878\n",
      "Epoch 9/10\n",
      "9098/9098 [==============================] - 100s 11ms/step - loss: 0.0080 - acc: 0.9979 - val_loss: 0.0476 - val_acc: 0.9876\n",
      "Epoch 10/10\n",
      "9098/9098 [==============================] - 101s 11ms/step - loss: 0.0070 - acc: 0.9981 - val_loss: 0.0457 - val_acc: 0.9874\n"
     ]
    }
   ],
   "source": [
    "ner_model.fit(x_train, y_train, epochs=10, batch_size=32, \n",
    "              validation_split=0.2,shuffle=True,\n",
    "              callbacks = [callbacks.TensorBoard(log_dir=\"./logs\", histogram_freq=1, write_grads=True)]\n",
    "             );"
   ]
  },
  {
   "cell_type": "markdown",
   "metadata": {},
   "source": [
    "To start tensorboard just run the command <b> tensorboard --logdir /path/to/log0directory </b>"
   ]
  },
  {
   "cell_type": "markdown",
   "metadata": {},
   "source": [
    "## Let's predict something \n",
    "(to prove to your parents/boss/significant other that they spent that GPU money wisely)"
   ]
  },
  {
   "cell_type": "code",
   "execution_count": 26,
   "metadata": {},
   "outputs": [],
   "source": [
    "## Sentence we are trying to identify named entities forb\n",
    "sentence = \"My name is John Arghten and I work at Microsoft Corp\";\n"
   ]
  },
  {
   "cell_type": "code",
   "execution_count": 27,
   "metadata": {},
   "outputs": [],
   "source": [
    "## we follow the same paradigm and we transform the sentence to a padded sequence\n",
    "\n",
    "split_sentence = sentence.split(' ');\n",
    "indexed_sentence = [];\n",
    "for word in split_sentence:\n",
    "    if(not word in word_to_ind):\n",
    "        indexed_sentence.append(word_to_ind[\"UNK\"]);\n",
    "    else:\n",
    "        indexed_sentence.append(word_to_ind[word])\n",
    "\n",
    "##remember, we need to add the batch dimension    \n",
    "indexed_sentence = np.expand_dims(indexed_sentence,0);\n",
    "##and our model is expecting a sentence of length 64 so pad...\n",
    "indexed_sentence = sequence.pad_sequences(indexed_sentence,maxlen=max_len);\n"
   ]
  },
  {
   "cell_type": "code",
   "execution_count": 28,
   "metadata": {},
   "outputs": [
    {
     "name": "stdout",
     "output_type": "stream",
     "text": [
      "My\tO\n",
      "\n",
      "name\tO\n",
      "\n",
      "is\tO\n",
      "\n",
      "John\tB-PER\n",
      "\n",
      "UNK\tI-PER\n",
      "\n",
      "and\tO\n",
      "\n",
      "I\tO\n",
      "\n",
      "work\tO\n",
      "\n",
      "at\tO\n",
      "\n",
      "Microsoft\tB-ORG\n",
      "\n",
      "Corp\tI-ORG\n",
      "\n"
     ]
    }
   ],
   "source": [
    "## and the results...\n",
    "pred_classes = ner_model.predict_classes(indexed_sentence);\n",
    "pred_classes = pred_classes.flatten();\n",
    "indexed_sentence = indexed_sentence.flatten();\n",
    "\n",
    "for i in range(len(pred_classes)):\n",
    "    try:\n",
    "        print(ind_to_word[indexed_sentence[i]]+'\\t'+ind_to_label[pred_classes[i]])\n",
    "    except KeyError:\n",
    "        pass;\n"
   ]
  },
  {
   "cell_type": "code",
   "execution_count": null,
   "metadata": {},
   "outputs": [],
   "source": []
  },
  {
   "cell_type": "markdown",
   "metadata": {},
   "source": [
    "# This is the end (Sometimes life is unfair)"
   ]
  },
  {
   "cell_type": "code",
   "execution_count": 29,
   "metadata": {},
   "outputs": [],
   "source": [
    "##suppose that you want to add pre-trained Embeddings to an LSTM or whatever...\n",
    "##here's a \"pre-trained\" vector\n",
    "embeddings = np.random.rand(5,8); ##vocabulary is 5 words and embeddings have 8 dims\n"
   ]
  },
  {
   "cell_type": "code",
   "execution_count": 30,
   "metadata": {},
   "outputs": [
    {
     "ename": "ValueError",
     "evalue": "You called `set_weights(weights)` on layer \"embedding_7\" with a  weight list of length 5, but the layer was expecting 1 weights. Provided weights: [[0.1775221  0.63388724 0.95979058 0.93335467 0.53...",
     "output_type": "error",
     "traceback": [
      "\u001b[0;31m---------------------------------------------------------------------------\u001b[0m",
      "\u001b[0;31mValueError\u001b[0m                                Traceback (most recent call last)",
      "\u001b[0;32m<ipython-input-30-82928b206027>\u001b[0m in \u001b[0;36m<module>\u001b[0;34m()\u001b[0m\n\u001b[1;32m     12\u001b[0m \u001b[0mmodel\u001b[0m \u001b[0;34m=\u001b[0m \u001b[0mSequential\u001b[0m\u001b[0;34m(\u001b[0m\u001b[0;34m)\u001b[0m\u001b[0;34m;\u001b[0m\u001b[0;34m\u001b[0m\u001b[0m\n\u001b[1;32m     13\u001b[0m \u001b[0;31m##add Embedding layer 5 inputs 8 outputs, tell keras not to train it and then set your own embeddings\u001b[0m\u001b[0;34m\u001b[0m\u001b[0;34m\u001b[0m\u001b[0m\n\u001b[0;32m---> 14\u001b[0;31m \u001b[0mmodel\u001b[0m\u001b[0;34m.\u001b[0m\u001b[0madd\u001b[0m\u001b[0;34m(\u001b[0m\u001b[0mEmbedding\u001b[0m\u001b[0;34m(\u001b[0m\u001b[0minput_dim\u001b[0m\u001b[0;34m=\u001b[0m\u001b[0;36m5\u001b[0m\u001b[0;34m,\u001b[0m\u001b[0moutput_dim\u001b[0m\u001b[0;34m=\u001b[0m\u001b[0;36m8\u001b[0m\u001b[0;34m,\u001b[0m\u001b[0mtrainable\u001b[0m\u001b[0;34m=\u001b[0m\u001b[0mFalse\u001b[0m\u001b[0;34m,\u001b[0m\u001b[0mweights\u001b[0m\u001b[0;34m=\u001b[0m\u001b[0membeddings\u001b[0m\u001b[0;34m)\u001b[0m\u001b[0;34m)\u001b[0m\u001b[0;34m;\u001b[0m\u001b[0;34m\u001b[0m\u001b[0m\n\u001b[0m",
      "\u001b[0;32m/usr/local/lib/python2.7/dist-packages/keras/models.pyc\u001b[0m in \u001b[0;36madd\u001b[0;34m(self, layer)\u001b[0m\n\u001b[1;32m    465\u001b[0m                 \u001b[0;31m# and create the node connecting the current layer\u001b[0m\u001b[0;34m\u001b[0m\u001b[0;34m\u001b[0m\u001b[0m\n\u001b[1;32m    466\u001b[0m                 \u001b[0;31m# to the input layer we just created.\u001b[0m\u001b[0;34m\u001b[0m\u001b[0;34m\u001b[0m\u001b[0m\n\u001b[0;32m--> 467\u001b[0;31m                 \u001b[0mlayer\u001b[0m\u001b[0;34m(\u001b[0m\u001b[0mx\u001b[0m\u001b[0;34m)\u001b[0m\u001b[0;34m\u001b[0m\u001b[0m\n\u001b[0m\u001b[1;32m    468\u001b[0m \u001b[0;34m\u001b[0m\u001b[0m\n\u001b[1;32m    469\u001b[0m             \u001b[0;32mif\u001b[0m \u001b[0mlen\u001b[0m\u001b[0;34m(\u001b[0m\u001b[0mlayer\u001b[0m\u001b[0;34m.\u001b[0m\u001b[0m_inbound_nodes\u001b[0m\u001b[0;34m[\u001b[0m\u001b[0;34m-\u001b[0m\u001b[0;36m1\u001b[0m\u001b[0;34m]\u001b[0m\u001b[0;34m.\u001b[0m\u001b[0moutput_tensors\u001b[0m\u001b[0;34m)\u001b[0m \u001b[0;34m!=\u001b[0m \u001b[0;36m1\u001b[0m\u001b[0;34m:\u001b[0m\u001b[0;34m\u001b[0m\u001b[0m\n",
      "\u001b[0;32m/usr/local/lib/python2.7/dist-packages/keras/engine/topology.pyc\u001b[0m in \u001b[0;36m__call__\u001b[0;34m(self, inputs, **kwargs)\u001b[0m\n\u001b[1;32m    595\u001b[0m                 \u001b[0;31m# Load weights that were specified at layer instantiation.\u001b[0m\u001b[0;34m\u001b[0m\u001b[0;34m\u001b[0m\u001b[0m\n\u001b[1;32m    596\u001b[0m                 \u001b[0;32mif\u001b[0m \u001b[0mself\u001b[0m\u001b[0;34m.\u001b[0m\u001b[0m_initial_weights\u001b[0m \u001b[0;32mis\u001b[0m \u001b[0;32mnot\u001b[0m \u001b[0mNone\u001b[0m\u001b[0;34m:\u001b[0m\u001b[0;34m\u001b[0m\u001b[0m\n\u001b[0;32m--> 597\u001b[0;31m                     \u001b[0mself\u001b[0m\u001b[0;34m.\u001b[0m\u001b[0mset_weights\u001b[0m\u001b[0;34m(\u001b[0m\u001b[0mself\u001b[0m\u001b[0;34m.\u001b[0m\u001b[0m_initial_weights\u001b[0m\u001b[0;34m)\u001b[0m\u001b[0;34m\u001b[0m\u001b[0m\n\u001b[0m\u001b[1;32m    598\u001b[0m \u001b[0;34m\u001b[0m\u001b[0m\n\u001b[1;32m    599\u001b[0m             \u001b[0;31m# Raise exceptions in case the input is not compatible\u001b[0m\u001b[0;34m\u001b[0m\u001b[0;34m\u001b[0m\u001b[0m\n",
      "\u001b[0;32m/usr/local/lib/python2.7/dist-packages/keras/engine/topology.pyc\u001b[0m in \u001b[0;36mset_weights\u001b[0;34m(self, weights)\u001b[0m\n\u001b[1;32m   1205\u001b[0m                              \u001b[0mstr\u001b[0m\u001b[0;34m(\u001b[0m\u001b[0mlen\u001b[0m\u001b[0;34m(\u001b[0m\u001b[0mparams\u001b[0m\u001b[0;34m)\u001b[0m\u001b[0;34m)\u001b[0m \u001b[0;34m+\u001b[0m\u001b[0;34m\u001b[0m\u001b[0m\n\u001b[1;32m   1206\u001b[0m                              \u001b[0;34m' weights. Provided weights: '\u001b[0m \u001b[0;34m+\u001b[0m\u001b[0;34m\u001b[0m\u001b[0m\n\u001b[0;32m-> 1207\u001b[0;31m                              str(weights)[:50] + '...')\n\u001b[0m\u001b[1;32m   1208\u001b[0m         \u001b[0;32mif\u001b[0m \u001b[0;32mnot\u001b[0m \u001b[0mparams\u001b[0m\u001b[0;34m:\u001b[0m\u001b[0;34m\u001b[0m\u001b[0m\n\u001b[1;32m   1209\u001b[0m             \u001b[0;32mreturn\u001b[0m\u001b[0;34m\u001b[0m\u001b[0m\n",
      "\u001b[0;31mValueError\u001b[0m: You called `set_weights(weights)` on layer \"embedding_7\" with a  weight list of length 5, but the layer was expecting 1 weights. Provided weights: [[0.1775221  0.63388724 0.95979058 0.93335467 0.53..."
     ]
    }
   ],
   "source": [
    "##how to add the embeddings???\n",
    "##let's read the documentation (https://keras.io/layers/embeddings/)\n",
    "##nothing there... \n",
    "## but embedding is an instance of the engine.base_layer.Layer and there\n",
    "## you have options such as trainable and weights = ... \n",
    "## I can not find anything on the documentation though (so there might be another\n",
    "## way to manually set weights and freeze a layer but @!### off I'm stupid ok?)\n",
    "\n",
    "##in any way let's move on\n",
    "\n",
    "##simple model...\n",
    "model = Sequential();\n",
    "##add Embedding layer 5 inputs 8 outputs, tell keras not to train it and then set your own embeddings\n",
    "model.add(Embedding(input_dim=5,output_dim=8,trainable=False,weights=embeddings));"
   ]
  },
  {
   "cell_type": "code",
   "execution_count": null,
   "metadata": {},
   "outputs": [],
   "source": [
    "##now google that error and good luck\n",
    "##do not forget to feel bad about yourself...\n",
    "##somehow, somewhere I got the following \"brilliant\" idea, because sometimes people are just evil\n",
    "model.add(Embedding(input_dim=5,output_dim=8,trainable=False,weights=[embeddings]));"
   ]
  },
  {
   "cell_type": "code",
   "execution_count": null,
   "metadata": {},
   "outputs": [],
   "source": [
    "##yes...\n",
    "##aha...\n",
    "##mhhhmmm...\n",
    "## from the author of keras: https://blog.keras.io/user-experience-design-for-apis.html\n",
    "## but ok, it is a great library to do stuff."
   ]
  },
  {
   "cell_type": "markdown",
   "metadata": {},
   "source": [
    "# Appendix "
   ]
  },
  {
   "cell_type": "markdown",
   "metadata": {},
   "source": [
    "## Visualization of sigmoid & its derivative (on vanishing gradients)"
   ]
  },
  {
   "cell_type": "code",
   "execution_count": 31,
   "metadata": {},
   "outputs": [
    {
     "data": {
      "image/png": "[encoded data removed]",
      "text/plain": [
       "<matplotlib.figure.Figure at 0x7f03c9735610>"
      ]
     },
     "metadata": {},
     "output_type": "display_data"
    }
   ],
   "source": [
    "def sigmoid_derivative(x):\n",
    "    return sigmoid(x)*(1-sigmoid(x));\n",
    "plt.figure(figsize=[10,5]);\n",
    "plt.plot(np.arange(-4,4,.01),sigmoid(np.arange(-4,4,.01)),label='sig(x)');\n",
    "plt.plot(np.arange(-4,4,.01),sigmoid_derivative(np.arange(-4,4,.01)),label='sig(x)\\'');\n",
    "plt.legend();\n",
    "plt.xlabel('X');\n"
   ]
  },
  {
   "cell_type": "code",
   "execution_count": null,
   "metadata": {},
   "outputs": [],
   "source": []
  }
 ],
 "metadata": {
  "kernelspec": {
   "display_name": "Python 2",
   "language": "python",
   "name": "python2"
  },
  "language_info": {
   "codemirror_mode": {
    "name": "ipython",
    "version": 2
   },
   "file_extension": ".py",
   "mimetype": "text/x-python",
   "name": "python",
   "nbconvert_exporter": "python",
   "pygments_lexer": "ipython2",
   "version": "2.7.6"
  }
 },
 "nbformat": 4,
 "nbformat_minor": 2
}
